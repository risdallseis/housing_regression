{
 "cells": [
  {
   "cell_type": "code",
   "execution_count": 1,
   "metadata": {},
   "outputs": [],
   "source": [
    "import sklearn\n",
    "import pandas as pd\n",
    "import matplotlib as plt\n",
    "import seaborn as sns\n",
    "import numpy as np\n",
    "import warnings\n",
    "warnings.filterwarnings('ignore')\n",
    "sns.set_style('whitegrid')\n",
    "sns.set_context('talk')\n",
    "sns.set_palette('bright')"
   ]
  },
  {
   "cell_type": "code",
   "execution_count": 2,
   "metadata": {},
   "outputs": [],
   "source": [
    "def missing_zero_values_table(df):\n",
    "        zero_val = (df == 0.00).astype(int).sum(axis=0)\n",
    "        mis_val = df.isnull().sum()\n",
    "        mis_val_percent = 100 * df.isnull().sum() / len(df)\n",
    "        mz_table = pd.concat([zero_val, mis_val, mis_val_percent], axis=1)\n",
    "        mz_table = mz_table.rename(\n",
    "        columns = {0 : 'Zero Values', 1 : 'Missing Values', 2 : '% of Total Values'})\n",
    "        mz_table['Total Zero Missing Values'] = mz_table['Zero Values'] + mz_table['Missing Values']\n",
    "        mz_table['% Total Zero Missing Values'] = 100 * mz_table['Total Zero Missing Values'] / len(df)\n",
    "        mz_table['Data Type'] = df.dtypes\n",
    "        mz_table = mz_table[\n",
    "            mz_table.iloc[:,1] != 0].sort_values(\n",
    "        '% of Total Values', ascending=False).round(1)\n",
    "        print (\"Your selected dataframe has \" + str(df.shape[1]) + \" columns and \" + str(df.shape[0]) + \" Rows.\\n\"      \n",
    "            \"There are \" + str(mz_table.shape[0]) +\n",
    "              \" columns that have missing values.\")\n",
    "        return mz_table\n",
    "\n"
   ]
  },
  {
   "cell_type": "code",
   "execution_count": 3,
   "metadata": {},
   "outputs": [],
   "source": [
    "df=pd.read_csv('train.csv',index_col='Id')"
   ]
  },
  {
   "cell_type": "markdown",
   "metadata": {},
   "source": [
    "**Identifying features with substantial amounts of missing vales**"
   ]
  },
  {
   "cell_type": "code",
   "execution_count": 4,
   "metadata": {},
   "outputs": [
    {
     "name": "stdout",
     "output_type": "stream",
     "text": [
      "Your selected dataframe has 80 columns and 1460 Rows.\n",
      "There are 19 columns that have missing values.\n"
     ]
    },
    {
     "data": {
      "text/html": [
       "<div>\n",
       "<style scoped>\n",
       "    .dataframe tbody tr th:only-of-type {\n",
       "        vertical-align: middle;\n",
       "    }\n",
       "\n",
       "    .dataframe tbody tr th {\n",
       "        vertical-align: top;\n",
       "    }\n",
       "\n",
       "    .dataframe thead th {\n",
       "        text-align: right;\n",
       "    }\n",
       "</style>\n",
       "<table border=\"1\" class=\"dataframe\">\n",
       "  <thead>\n",
       "    <tr style=\"text-align: right;\">\n",
       "      <th></th>\n",
       "      <th>Zero Values</th>\n",
       "      <th>Missing Values</th>\n",
       "      <th>% of Total Values</th>\n",
       "      <th>Total Zero Missing Values</th>\n",
       "      <th>% Total Zero Missing Values</th>\n",
       "      <th>Data Type</th>\n",
       "    </tr>\n",
       "  </thead>\n",
       "  <tbody>\n",
       "    <tr>\n",
       "      <th>PoolQC</th>\n",
       "      <td>0</td>\n",
       "      <td>1453</td>\n",
       "      <td>99.5</td>\n",
       "      <td>1453</td>\n",
       "      <td>99.5</td>\n",
       "      <td>object</td>\n",
       "    </tr>\n",
       "    <tr>\n",
       "      <th>MiscFeature</th>\n",
       "      <td>0</td>\n",
       "      <td>1406</td>\n",
       "      <td>96.3</td>\n",
       "      <td>1406</td>\n",
       "      <td>96.3</td>\n",
       "      <td>object</td>\n",
       "    </tr>\n",
       "    <tr>\n",
       "      <th>Alley</th>\n",
       "      <td>0</td>\n",
       "      <td>1369</td>\n",
       "      <td>93.8</td>\n",
       "      <td>1369</td>\n",
       "      <td>93.8</td>\n",
       "      <td>object</td>\n",
       "    </tr>\n",
       "    <tr>\n",
       "      <th>Fence</th>\n",
       "      <td>0</td>\n",
       "      <td>1179</td>\n",
       "      <td>80.8</td>\n",
       "      <td>1179</td>\n",
       "      <td>80.8</td>\n",
       "      <td>object</td>\n",
       "    </tr>\n",
       "    <tr>\n",
       "      <th>FireplaceQu</th>\n",
       "      <td>0</td>\n",
       "      <td>690</td>\n",
       "      <td>47.3</td>\n",
       "      <td>690</td>\n",
       "      <td>47.3</td>\n",
       "      <td>object</td>\n",
       "    </tr>\n",
       "    <tr>\n",
       "      <th>LotFrontage</th>\n",
       "      <td>0</td>\n",
       "      <td>259</td>\n",
       "      <td>17.7</td>\n",
       "      <td>259</td>\n",
       "      <td>17.7</td>\n",
       "      <td>float64</td>\n",
       "    </tr>\n",
       "    <tr>\n",
       "      <th>GarageType</th>\n",
       "      <td>0</td>\n",
       "      <td>81</td>\n",
       "      <td>5.5</td>\n",
       "      <td>81</td>\n",
       "      <td>5.5</td>\n",
       "      <td>object</td>\n",
       "    </tr>\n",
       "    <tr>\n",
       "      <th>GarageYrBlt</th>\n",
       "      <td>0</td>\n",
       "      <td>81</td>\n",
       "      <td>5.5</td>\n",
       "      <td>81</td>\n",
       "      <td>5.5</td>\n",
       "      <td>float64</td>\n",
       "    </tr>\n",
       "    <tr>\n",
       "      <th>GarageFinish</th>\n",
       "      <td>0</td>\n",
       "      <td>81</td>\n",
       "      <td>5.5</td>\n",
       "      <td>81</td>\n",
       "      <td>5.5</td>\n",
       "      <td>object</td>\n",
       "    </tr>\n",
       "    <tr>\n",
       "      <th>GarageQual</th>\n",
       "      <td>0</td>\n",
       "      <td>81</td>\n",
       "      <td>5.5</td>\n",
       "      <td>81</td>\n",
       "      <td>5.5</td>\n",
       "      <td>object</td>\n",
       "    </tr>\n",
       "    <tr>\n",
       "      <th>GarageCond</th>\n",
       "      <td>0</td>\n",
       "      <td>81</td>\n",
       "      <td>5.5</td>\n",
       "      <td>81</td>\n",
       "      <td>5.5</td>\n",
       "      <td>object</td>\n",
       "    </tr>\n",
       "    <tr>\n",
       "      <th>BsmtExposure</th>\n",
       "      <td>0</td>\n",
       "      <td>38</td>\n",
       "      <td>2.6</td>\n",
       "      <td>38</td>\n",
       "      <td>2.6</td>\n",
       "      <td>object</td>\n",
       "    </tr>\n",
       "    <tr>\n",
       "      <th>BsmtFinType2</th>\n",
       "      <td>0</td>\n",
       "      <td>38</td>\n",
       "      <td>2.6</td>\n",
       "      <td>38</td>\n",
       "      <td>2.6</td>\n",
       "      <td>object</td>\n",
       "    </tr>\n",
       "    <tr>\n",
       "      <th>BsmtFinType1</th>\n",
       "      <td>0</td>\n",
       "      <td>37</td>\n",
       "      <td>2.5</td>\n",
       "      <td>37</td>\n",
       "      <td>2.5</td>\n",
       "      <td>object</td>\n",
       "    </tr>\n",
       "    <tr>\n",
       "      <th>BsmtCond</th>\n",
       "      <td>0</td>\n",
       "      <td>37</td>\n",
       "      <td>2.5</td>\n",
       "      <td>37</td>\n",
       "      <td>2.5</td>\n",
       "      <td>object</td>\n",
       "    </tr>\n",
       "    <tr>\n",
       "      <th>BsmtQual</th>\n",
       "      <td>0</td>\n",
       "      <td>37</td>\n",
       "      <td>2.5</td>\n",
       "      <td>37</td>\n",
       "      <td>2.5</td>\n",
       "      <td>object</td>\n",
       "    </tr>\n",
       "    <tr>\n",
       "      <th>MasVnrArea</th>\n",
       "      <td>861</td>\n",
       "      <td>8</td>\n",
       "      <td>0.5</td>\n",
       "      <td>869</td>\n",
       "      <td>59.5</td>\n",
       "      <td>float64</td>\n",
       "    </tr>\n",
       "    <tr>\n",
       "      <th>MasVnrType</th>\n",
       "      <td>0</td>\n",
       "      <td>8</td>\n",
       "      <td>0.5</td>\n",
       "      <td>8</td>\n",
       "      <td>0.5</td>\n",
       "      <td>object</td>\n",
       "    </tr>\n",
       "    <tr>\n",
       "      <th>Electrical</th>\n",
       "      <td>0</td>\n",
       "      <td>1</td>\n",
       "      <td>0.1</td>\n",
       "      <td>1</td>\n",
       "      <td>0.1</td>\n",
       "      <td>object</td>\n",
       "    </tr>\n",
       "  </tbody>\n",
       "</table>\n",
       "</div>"
      ],
      "text/plain": [
       "              Zero Values  Missing Values  % of Total Values  \\\n",
       "PoolQC                  0            1453               99.5   \n",
       "MiscFeature             0            1406               96.3   \n",
       "Alley                   0            1369               93.8   \n",
       "Fence                   0            1179               80.8   \n",
       "FireplaceQu             0             690               47.3   \n",
       "LotFrontage             0             259               17.7   \n",
       "GarageType              0              81                5.5   \n",
       "GarageYrBlt             0              81                5.5   \n",
       "GarageFinish            0              81                5.5   \n",
       "GarageQual              0              81                5.5   \n",
       "GarageCond              0              81                5.5   \n",
       "BsmtExposure            0              38                2.6   \n",
       "BsmtFinType2            0              38                2.6   \n",
       "BsmtFinType1            0              37                2.5   \n",
       "BsmtCond                0              37                2.5   \n",
       "BsmtQual                0              37                2.5   \n",
       "MasVnrArea            861               8                0.5   \n",
       "MasVnrType              0               8                0.5   \n",
       "Electrical              0               1                0.1   \n",
       "\n",
       "              Total Zero Missing Values  % Total Zero Missing Values Data Type  \n",
       "PoolQC                             1453                         99.5    object  \n",
       "MiscFeature                        1406                         96.3    object  \n",
       "Alley                              1369                         93.8    object  \n",
       "Fence                              1179                         80.8    object  \n",
       "FireplaceQu                         690                         47.3    object  \n",
       "LotFrontage                         259                         17.7   float64  \n",
       "GarageType                           81                          5.5    object  \n",
       "GarageYrBlt                          81                          5.5   float64  \n",
       "GarageFinish                         81                          5.5    object  \n",
       "GarageQual                           81                          5.5    object  \n",
       "GarageCond                           81                          5.5    object  \n",
       "BsmtExposure                         38                          2.6    object  \n",
       "BsmtFinType2                         38                          2.6    object  \n",
       "BsmtFinType1                         37                          2.5    object  \n",
       "BsmtCond                             37                          2.5    object  \n",
       "BsmtQual                             37                          2.5    object  \n",
       "MasVnrArea                          869                         59.5   float64  \n",
       "MasVnrType                            8                          0.5    object  \n",
       "Electrical                            1                          0.1    object  "
      ]
     },
     "execution_count": 4,
     "metadata": {},
     "output_type": "execute_result"
    }
   ],
   "source": [
    "mzvt=missing_zero_values_table(df)\n",
    "mzvt"
   ]
  },
  {
   "cell_type": "markdown",
   "metadata": {},
   "source": [
    "The table above shows features: PoolQC, MiscFeature, Alley, Fence, FireplaceQu and LotFrontage having significantly more missing values than the majority of the features. I am going to drop these features."
   ]
  },
  {
   "cell_type": "code",
   "execution_count": 5,
   "metadata": {},
   "outputs": [],
   "source": [
    "#Creating a slice of the % of total value column\n",
    "drop_mzvt=mzvt['% of Total Values'] \n",
    "#Creating a list of index names which have more than 10% missing values\n",
    "todrop=drop_mzvt[drop_mzvt>10].index\n",
    "#Dropping the list of index names from the df\n",
    "df.drop(todrop,axis=1,inplace=True)"
   ]
  },
  {
   "cell_type": "markdown",
   "metadata": {},
   "source": [
    "## **Initial data exploration**"
   ]
  },
  {
   "cell_type": "code",
   "execution_count": 6,
   "metadata": {},
   "outputs": [
    {
     "data": {
      "text/plain": [
       "object     38\n",
       "int64      34\n",
       "float64     2\n",
       "dtype: int64"
      ]
     },
     "execution_count": 6,
     "metadata": {},
     "output_type": "execute_result"
    }
   ],
   "source": [
    "#The number of features we have according to their data types\n",
    "df.dtypes.value_counts()"
   ]
  },
  {
   "cell_type": "code",
   "execution_count": 7,
   "metadata": {},
   "outputs": [
    {
     "name": "stdout",
     "output_type": "stream",
     "text": [
      "<class 'pandas.core.frame.DataFrame'>\n",
      "Int64Index: 1460 entries, 1 to 1460\n",
      "Data columns (total 74 columns):\n",
      " #   Column         Dtype  \n",
      "---  ------         -----  \n",
      " 0   MSSubClass     int64  \n",
      " 1   MSZoning       object \n",
      " 2   LotArea        int64  \n",
      " 3   Street         object \n",
      " 4   LotShape       object \n",
      " 5   LandContour    object \n",
      " 6   Utilities      object \n",
      " 7   LotConfig      object \n",
      " 8   LandSlope      object \n",
      " 9   Neighborhood   object \n",
      " 10  Condition1     object \n",
      " 11  Condition2     object \n",
      " 12  BldgType       object \n",
      " 13  HouseStyle     object \n",
      " 14  OverallQual    int64  \n",
      " 15  OverallCond    int64  \n",
      " 16  YearBuilt      int64  \n",
      " 17  YearRemodAdd   int64  \n",
      " 18  RoofStyle      object \n",
      " 19  RoofMatl       object \n",
      " 20  Exterior1st    object \n",
      " 21  Exterior2nd    object \n",
      " 22  MasVnrType     object \n",
      " 23  MasVnrArea     float64\n",
      " 24  ExterQual      object \n",
      " 25  ExterCond      object \n",
      " 26  Foundation     object \n",
      " 27  BsmtQual       object \n",
      " 28  BsmtCond       object \n",
      " 29  BsmtExposure   object \n",
      " 30  BsmtFinType1   object \n",
      " 31  BsmtFinSF1     int64  \n",
      " 32  BsmtFinType2   object \n",
      " 33  BsmtFinSF2     int64  \n",
      " 34  BsmtUnfSF      int64  \n",
      " 35  TotalBsmtSF    int64  \n",
      " 36  Heating        object \n",
      " 37  HeatingQC      object \n",
      " 38  CentralAir     object \n",
      " 39  Electrical     object \n",
      " 40  1stFlrSF       int64  \n",
      " 41  2ndFlrSF       int64  \n",
      " 42  LowQualFinSF   int64  \n",
      " 43  GrLivArea      int64  \n",
      " 44  BsmtFullBath   int64  \n",
      " 45  BsmtHalfBath   int64  \n",
      " 46  FullBath       int64  \n",
      " 47  HalfBath       int64  \n",
      " 48  BedroomAbvGr   int64  \n",
      " 49  KitchenAbvGr   int64  \n",
      " 50  KitchenQual    object \n",
      " 51  TotRmsAbvGrd   int64  \n",
      " 52  Functional     object \n",
      " 53  Fireplaces     int64  \n",
      " 54  GarageType     object \n",
      " 55  GarageYrBlt    float64\n",
      " 56  GarageFinish   object \n",
      " 57  GarageCars     int64  \n",
      " 58  GarageArea     int64  \n",
      " 59  GarageQual     object \n",
      " 60  GarageCond     object \n",
      " 61  PavedDrive     object \n",
      " 62  WoodDeckSF     int64  \n",
      " 63  OpenPorchSF    int64  \n",
      " 64  EnclosedPorch  int64  \n",
      " 65  3SsnPorch      int64  \n",
      " 66  ScreenPorch    int64  \n",
      " 67  PoolArea       int64  \n",
      " 68  MiscVal        int64  \n",
      " 69  MoSold         int64  \n",
      " 70  YrSold         int64  \n",
      " 71  SaleType       object \n",
      " 72  SaleCondition  object \n",
      " 73  SalePrice      int64  \n",
      "dtypes: float64(2), int64(34), object(38)\n",
      "memory usage: 855.5+ KB\n"
     ]
    }
   ],
   "source": [
    "#A closer look at the corresponding data type\n",
    "df.info(null_counts=False)"
   ]
  },
  {
   "cell_type": "code",
   "execution_count": 8,
   "metadata": {
    "scrolled": true
   },
   "outputs": [
    {
     "data": {
      "text/plain": [
       "<AxesSubplot:xlabel='SalePrice', ylabel='Density'>"
      ]
     },
     "execution_count": 8,
     "metadata": {},
     "output_type": "execute_result"
    },
    {
     "data": {
      "image/png": "[encoded data removed]",
      "text/plain": [
       "<Figure size 432x288 with 1 Axes>"
      ]
     },
     "metadata": {},
     "output_type": "display_data"
    }
   ],
   "source": [
    "sns.distplot(df['SalePrice'])"
   ]
  },
  {
   "cell_type": "code",
   "execution_count": 9,
   "metadata": {},
   "outputs": [
    {
     "data": {
      "text/plain": [
       "count      1460.000000\n",
       "mean     180921.195890\n",
       "std       79442.502883\n",
       "min       34900.000000\n",
       "25%      129975.000000\n",
       "50%      163000.000000\n",
       "75%      214000.000000\n",
       "max      755000.000000\n",
       "Name: SalePrice, dtype: float64"
      ]
     },
     "execution_count": 9,
     "metadata": {},
     "output_type": "execute_result"
    }
   ],
   "source": [
    "df['SalePrice'].describe()\n"
   ]
  },
  {
   "cell_type": "markdown",
   "metadata": {},
   "source": [
    "#### **Correlation between the features**"
   ]
  },
  {
   "cell_type": "code",
   "execution_count": null,
   "metadata": {},
   "outputs": [],
   "source": []
  },
  {
   "cell_type": "code",
   "execution_count": 41,
   "metadata": {},
   "outputs": [],
   "source": [
    "from sklearn.pipeline import Pipeline\n",
    "from sklearn.impute import SimpleImputer\n",
    "from sklearn.preprocessing import StandardScaler, OneHotEncoder\n",
    "from sklearn.compose import ColumnTransformer\n",
    "\n",
    "# Pipeline for numerical datatypes\n",
    "numeric_transformer = Pipeline(steps=[\n",
    "    ('imputer', SimpleImputer(strategy='median')),\n",
    "    ('scaler', StandardScaler())])\n",
    "# Pipeline for categorical datatypes\n",
    "categorical_transformer = Pipeline(steps=[\n",
    "    ('imputer', SimpleImputer(strategy='constant', fill_value='missing')),\n",
    "    ('onehot', OneHotEncoder(handle_unknown='ignore'))])\n",
    "# List of numerical features\n",
    "numeric_features = df.select_dtypes(include=['int64', 'float64']).columns\n",
    "# List of catergorical features\n",
    "categorical_features = df.select_dtypes(include=['object']).columns\n",
    "# Column transformer applies the correct pipeline to the correponding data type columns\n",
    "preprocessor = ColumnTransformer(\n",
    "    transformers=[\n",
    "        ('num', numeric_transformer, numeric_features),\n",
    "        ('cat', categorical_transformer, categorical_features)])\n",
    "\n",
    "# Transforming data using pipeline\n",
    "trpipe=Pipeline(steps=[('preprocessor',preprocessor)])\n",
    "trdata=trpipe.fit_transform(df)\n"
   ]
  },
  {
   "cell_type": "code",
   "execution_count": null,
   "metadata": {},
   "outputs": [],
   "source": []
  }
 ],
 "metadata": {
  "kernelspec": {
   "display_name": "Python 3",
   "language": "python",
   "name": "python3"
  },
  "language_info": {
   "codemirror_mode": {
    "name": "ipython",
    "version": 3
   },
   "file_extension": ".py",
   "mimetype": "text/x-python",
   "name": "python",
   "nbconvert_exporter": "python",
   "pygments_lexer": "ipython3",
   "version": "3.8.5"
  }
 },
 "nbformat": 4,
 "nbformat_minor": 4
}
